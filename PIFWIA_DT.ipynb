{
  "nbformat": 4,
  "nbformat_minor": 0,
  "metadata": {
    "colab": {
      "name": "PIFWIA_DT.ipynb",
      "provenance": [],
      "collapsed_sections": []
    },
    "kernelspec": {
      "name": "python3",
      "display_name": "Python 3"
    }
  },
  "cells": [
    {
      "cell_type": "markdown",
      "source": [
        "O aprendizado de árvores de decisão ou indução de árvores de decisão é uma das abordagens de modelagem preditiva usadas em estatística, mineração de dados e aprendizado de máquina. A árvore de decisão pode ser usada como um modelo preditivo para ir das observações sobre um item, isto é, os ramos, até as conclusões sobre o valor alvo do item que é representado nas folhas. Os modelos de árvore em que a variável de destino pode assumir um conjunto discreto de valores são chamados de árvores de classificação, nessas estruturas de árvore, as folhas representam rótulos de classe e ramos representam conjunções de recursos que levam a esses rótulos de classe. As árvores de decisão em que a variável de destino pode assumir valores contínuos, geralmente números reais, são chamadas de árvores de regressão. As árvores de decisão estão entre os algoritmos de aprendizado de máquina mais populares devido à sua inteligibilidade e simplicidade.\n",
        "\n",
        "Wu, X.; Kumar, V.; Ross, J.Q.; Ghosh, J.; Yang, Q.; Motoda, H.; McLachlan, G.J.; Ng, A.; Liu, B.; Yu, P.S.; Zhou, Z. Top 10 algorithms in data mining.  Knowledge and Information Systems. https://doi.org/10.1007/s10115-007-0114-2, 2008."
      ],
      "metadata": {
        "id": "GXie0Do64thm"
      }
    },
    {
      "cell_type": "code",
      "metadata": {
        "id": "0P6tBY50QOHR"
      },
      "source": [
        "#instalar biblioteca Orange Canvas\n",
        "!pip install Orange3"
      ],
      "execution_count": null,
      "outputs": []
    },
    {
      "cell_type": "code",
      "source": [
        "#importar biblioteca Orange Canvas\n",
        "import Orange"
      ],
      "metadata": {
        "id": "1MF20XTJ_Aa_"
      },
      "execution_count": null,
      "outputs": []
    },
    {
      "cell_type": "code",
      "source": [
        "#importar dados do disco local\n",
        "from google.colab import files  \n",
        "files.upload()"
      ],
      "metadata": {
        "id": "Ygu12JE_Afct"
      },
      "execution_count": null,
      "outputs": []
    },
    {
      "cell_type": "code",
      "source": [
        "#instanciar objeto de dados com base no caminho gerado com a importação do arquivo\n",
        "dados = Orange.data.Table(\"/content/Simulacao-1.csv\")"
      ],
      "metadata": {
        "id": "Uid5eSz5Fiwi"
      },
      "execution_count": null,
      "outputs": []
    },
    {
      "cell_type": "code",
      "source": [
        "#imprimir os primeiros 5 registros\n",
        "for d in dados[:5]:\n",
        "  print(d)"
      ],
      "metadata": {
        "id": "ar06vvffknDu"
      },
      "execution_count": null,
      "outputs": []
    },
    {
      "cell_type": "code",
      "source": [
        "#explorar os metadados\n",
        "qtde_campos = len(dados.domain.attributes)\n",
        "qtde_cont = sum(1 for a in dados.domain.attributes if a.is_continuous)\n",
        "qtde_disc = sum(1 for a in dados.domain.attributes if a.is_discrete)\n",
        "print(\"%d metadados: %d continuos, %d discretos\" % (qtde_campos, qtde_cont, qtde_disc))\n",
        "print(\"Nome dos metadados:\", \", \".join(dados.domain.attributes[i].name for i in range(qtde_campos)),)"
      ],
      "metadata": {
        "id": "H5nbZkd6rDHS"
      },
      "execution_count": null,
      "outputs": []
    },
    {
      "cell_type": "code",
      "source": [
        "#explorar domínios\n",
        "dados.domain.attributes"
      ],
      "metadata": {
        "id": "J5VmTPgks2w5"
      },
      "execution_count": null,
      "outputs": []
    },
    {
      "cell_type": "code",
      "source": [
        "#explorar classe\n",
        "dados.domain.class_var"
      ],
      "metadata": {
        "id": "I3P5bR1Bts-m"
      },
      "execution_count": null,
      "outputs": []
    },
    {
      "cell_type": "code",
      "source": [
        "#explorar dados\n",
        "print(\"Campos:\", \", \".join(c.name for c in dados.domain.attributes))\n",
        "print(\"Registros:\", len(dados))\n",
        "print(\"Valor do registro 1 da coluna 1:\", dados[0][0])\n",
        "print(\"Valor do registro 2 da coluna 2:\", dados[1][1])"
      ],
      "metadata": {
        "id": "g36bj2VTuNXm"
      },
      "execution_count": null,
      "outputs": []
    },
    {
      "cell_type": "code",
      "source": [
        "#criar amostra\n",
        "qtde100 = len(dados)\n",
        "qtde70 = len(dados) * 70 / 100\n",
        "qtde30 = len(dados) * 30 / 100\n",
        "print(\"Qtde 100%:\", qtde100)\n",
        "print(\"Qtde  70%:\", qtde70)\n",
        "print(\"Qtde  30%:\", qtde30)\n",
        "amostra = Orange.data.Table(dados.domain, [d for d in dados if d.row_index < qtde70])\n",
        "print(\"Registros:\", len(dados))\n",
        "print(\"Registros:\", len(amostra))"
      ],
      "metadata": {
        "id": "Ds75Qk7vusPK"
      },
      "execution_count": null,
      "outputs": []
    },
    {
      "cell_type": "code",
      "source": [
        "#Técnica Decision Tree (DT)\n",
        "dt = Orange.classification.TreeLearner(binarize=False, max_depth=None, min_samples_leaf=1, min_samples_split=2, sufficient_majority=0.95, preprocessors=None)"
      ],
      "metadata": {
        "id": "RbAJ44FgLM00"
      },
      "execution_count": null,
      "outputs": []
    },
    {
      "cell_type": "code",
      "source": [
        "#ligar técnica DT aos dados\n",
        "dados_dt = dt(dados)"
      ],
      "metadata": {
        "id": "bmlBAnbmMKd-"
      },
      "execution_count": null,
      "outputs": []
    },
    {
      "cell_type": "code",
      "source": [
        "#treinar e testar técnica MLP com os dados\n",
        "avalia_dt = Orange.evaluation.CrossValidation(dados, [dt], k=5)"
      ],
      "metadata": {
        "id": "_vNTaCAHS5bk"
      },
      "execution_count": null,
      "outputs": []
    },
    {
      "cell_type": "code",
      "source": [
        "#avaliar os indicadores para o DT\n",
        "print(\"Acurácia:  %.3f\" % Orange.evaluation.scoring.CA(avalia_dt)[0])\n",
        "print(\"Precisão:  %.3f\" % Orange.evaluation.scoring.Precision(avalia_dt)[0])\n",
        "print(\"Revocação: %.3f\" % Orange.evaluation.scoring.Recall(avalia_dt)[0])\n",
        "print(\"F1:        %.3f\" % Orange.evaluation.scoring.F1(avalia_dt)[0])\n",
        "print(\"ROC:       %.3f\" % Orange.evaluation.scoring.AUC(avalia_dt)[0])"
      ],
      "metadata": {
        "id": "dtxG4yrDTAtv"
      },
      "execution_count": null,
      "outputs": []
    },
    {
      "cell_type": "code",
      "source": [
        "#comparar a técnica DT com outras 2 técnicas\n",
        "svm = Orange.classification.SVMLearner(C=1.0, kernel='rbf', degree=3, gamma='auto', coef0=0.0, shrinking=True, probability=False, tol=0.001, cache_size=200, max_iter=-1, preprocessors=None)\n",
        "mlp = Orange.classification.NNClassificationLearner(hidden_layer_sizes=(100,), activation='relu', solver='adam', alpha=0.0001, batch_size='auto', learning_rate='constant', learning_rate_init=0.001, power_t=0.5, max_iter=200, shuffle=True, random_state=None, tol=0.0001, verbose=False, warm_start=False, momentum=0.9, nesterovs_momentum=True, early_stopping=False, validation_fraction=0.1, beta_1=0.9, beta_2=0.999, epsilon=1e-08, preprocessors=None)\n",
        "dados_svm = svm(dados)\n",
        "dados_mlp = mlp(dados)\n",
        "aprendizado = [dt, svm, mlp]\n",
        "avaliacao = Orange.evaluation.CrossValidation(dados, aprendizado, k=5)"
      ],
      "metadata": {
        "id": "ihR-hUDCazin"
      },
      "execution_count": null,
      "outputs": []
    },
    {
      "cell_type": "code",
      "source": [
        "#imprimir os indicadores para as 3 técnicas\n",
        "print(\" \" * 10 + \" | \".join(\"%-4s\" % learner.name for learner in aprendizado))\n",
        "print(\"Acurácia  %s\" % \" | \".join(\"%.2f\" % s for s in Orange.evaluation.CA(avaliacao)))\n",
        "print(\"Precisão  %s\" % \" | \".join(\"%.2f\" % s for s in Orange.evaluation.Precision(avaliacao)))\n",
        "print(\"Revocação %s\" % \" | \".join(\"%.2f\" % s for s in Orange.evaluation.Recall(avaliacao)))\n",
        "print(\"F1        %s\" % \" | \".join(\"%.2f\" % s for s in Orange.evaluation.F1(avaliacao)))\n",
        "print(\"ROC       %s\" % \" | \".join(\"%.2f\" % s for s in Orange.evaluation.AUC(avaliacao)))"
      ],
      "metadata": {
        "id": "MQn6ppBIfamY"
      },
      "execution_count": null,
      "outputs": []
    }
  ]
}